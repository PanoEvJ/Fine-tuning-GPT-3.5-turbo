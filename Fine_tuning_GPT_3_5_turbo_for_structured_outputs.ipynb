{
  "nbformat": 4,
  "nbformat_minor": 0,
  "metadata": {
    "colab": {
      "provenance": [],
      "collapsed_sections": [
        "Q01GaLAI_5W6"
      ],
      "include_colab_link": true
    },
    "kernelspec": {
      "name": "python3",
      "display_name": "Python 3"
    },
    "language_info": {
      "name": "python"
    }
  },
  "cells": [
    {
      "cell_type": "markdown",
      "metadata": {
        "id": "view-in-github",
        "colab_type": "text"
      },
      "source": [
        "<a href=\"https://colab.research.google.com/github/PanoEvJ/Fine-tuning-GPT-3.5-turbo/blob/main/Fine_tuning_GPT_3_5_turbo_for_structured_outputs.ipynb\" target=\"_parent\"><img src=\"https://colab.research.google.com/assets/colab-badge.svg\" alt=\"Open In Colab\"/></a>"
      ]
    },
    {
      "cell_type": "markdown",
      "source": [
        "# Fine-tuning `gpt-3.5-turbo`\n",
        "\n",
        "By [Pano Evangeliou](https://www.linkedin.com/in/p-evangeliou/) for [AI Makerspace](https://www.linkedin.com/company/ai-maker-space/)\n",
        "\n",
        "Let's look at an example where we want to prompt `gpt-3.5-turbo` and get a structured response back."
      ],
      "metadata": {
        "id": "y2XkNr3kbjJB"
      }
    },
    {
      "cell_type": "markdown",
      "source": [
        "## ChatGPT Output"
      ],
      "metadata": {
        "id": "JexvGGXp_Q_W"
      }
    },
    {
      "cell_type": "markdown",
      "source": [
        "### PROMPT\n",
        "---\n",
        "Please identify the gender, country of origin, and profession of the following prompt and return it as a JSON object with structure: {\"gender\" : gender, \"country_of_origin\" : country_of_origin, \"profession\" : profession}\n",
        "\n",
        "PROMPT:\n",
        "\n",
        "James Eugene Carrey is a Canadian and American actor and comedian. Known for his energetic slapstick performances, Carrey first gained recognition in 1990, after landing a role in the American sketch comedy television series In Living Color.\n",
        "\n",
        "---"
      ],
      "metadata": {
        "id": "18cyW-VZbyke"
      }
    },
    {
      "cell_type": "markdown",
      "source": [
        "### RESPONSE\n",
        "\n",
        "---\n",
        "\n",
        "Based on the provided text, here's the JSON object with the inferred information:\n",
        "\n",
        "```json\n",
        "{\n",
        "  \"gender\": \"male\",\n",
        "  \"country_of_origin\": \"Canada\",\n",
        "  \"profession\": \"actor and comedian\"\n",
        "}\n",
        "```\n",
        "\n",
        "Please note that the information provided is based solely on the text you provided and doesn't include any real-time or external data.\n",
        "\n",
        "---"
      ],
      "metadata": {
        "id": "VwuBCBktbhKQ"
      }
    },
    {
      "cell_type": "markdown",
      "source": [
        "That's the output from `chat.openai.com`, which is overly verbose - so let's check out the programmatic version!"
      ],
      "metadata": {
        "id": "xxTGg_I3-hFG"
      }
    },
    {
      "cell_type": "markdown",
      "source": [
        "## Programatic `gpt-3.5-turbo` access"
      ],
      "metadata": {
        "id": "6Dw_E3lI_V2l"
      }
    },
    {
      "cell_type": "code",
      "source": [
        "!pip install -U -q openai"
      ],
      "metadata": {
        "id": "oBGqet_-kr_c"
      },
      "execution_count": null,
      "outputs": []
    },
    {
      "cell_type": "code",
      "source": [
        "import os\n",
        "import getpass\n",
        "\n",
        "openai_api_key = getpass.getpass(\"Enter your OpenAI API Key: \")\n",
        "os.environ[\"OPENAI_API_KEY\"] = openai_api_key"
      ],
      "metadata": {
        "colab": {
          "base_uri": "https://localhost:8080/"
        },
        "id": "oNYHAXzwktd2",
        "outputId": "ae498bf3-52f1-42b6-ffad-50480a0a13eb"
      },
      "execution_count": null,
      "outputs": [
        {
          "name": "stdout",
          "output_type": "stream",
          "text": [
            "Enter your OpenAI API Key: ··········\n"
          ]
        }
      ]
    },
    {
      "cell_type": "code",
      "source": [
        "import openai\n",
        "\n",
        "response = openai.ChatCompletion.create(\n",
        "    model=\"gpt-3.5-turbo\",\n",
        "    messages=[{\"role\": \"system\", \"content\": 'Given a short biography, provide the following fields in a JSON dict, where applicable: \"gender\", \"country_of_origin\", and \"profession\".'},\n",
        "    {\"role\": \"user\", \"content\": \"William Henry Gates III (born October 28, 1955) is an American business magnate, investor, and philanthropist best known for co-founding the software giant Microsoft along with his childhood friend Paul Allen.[2][3] During his career at Microsoft, Gates held the positions of chairman, chief executive officer (CEO), president, and chief software architect, while also being its largest individual shareholder until May 2014.[4] He was a major entrepreneur of the microcomputer revolution of the 1970s and 1980s.\"}]\n",
        ")"
      ],
      "metadata": {
        "id": "O5E12CQstvOV"
      },
      "execution_count": null,
      "outputs": []
    },
    {
      "cell_type": "code",
      "source": [
        "response"
      ],
      "metadata": {
        "colab": {
          "base_uri": "https://localhost:8080/"
        },
        "id": "G-hJz-ddt4gS",
        "outputId": "ca8d7b23-7cae-44e0-8f2e-2c30b38c8318"
      },
      "execution_count": null,
      "outputs": [
        {
          "output_type": "execute_result",
          "data": {
            "text/plain": [
              "<OpenAIObject chat.completion id=chatcmpl-7qt2npN3NEf0YLDCPtvQZCDCx4895 at 0x797d36f9bce0> JSON: {\n",
              "  \"id\": \"chatcmpl-7qt2npN3NEf0YLDCPtvQZCDCx4895\",\n",
              "  \"object\": \"chat.completion\",\n",
              "  \"created\": 1692839001,\n",
              "  \"model\": \"gpt-3.5-turbo-0613\",\n",
              "  \"choices\": [\n",
              "    {\n",
              "      \"index\": 0,\n",
              "      \"message\": {\n",
              "        \"role\": \"assistant\",\n",
              "        \"content\": \"{\\n  \\\"gender\\\": \\\"male\\\",\\n  \\\"country_of_origin\\\": \\\"United States\\\",\\n  \\\"profession\\\": [\\n    \\\"business magnate\\\",\\n    \\\"investor\\\",\\n    \\\"philanthropist\\\"\\n  ]\\n}\"\n",
              "      },\n",
              "      \"finish_reason\": \"stop\"\n",
              "    }\n",
              "  ],\n",
              "  \"usage\": {\n",
              "    \"prompt_tokens\": 152,\n",
              "    \"completion_tokens\": 44,\n",
              "    \"total_tokens\": 196\n",
              "  }\n",
              "}"
            ]
          },
          "metadata": {},
          "execution_count": 27
        }
      ]
    },
    {
      "cell_type": "code",
      "source": [
        "import ast\n",
        "\n",
        "print(ast.literal_eval(response.choices[0].message.content))"
      ],
      "metadata": {
        "colab": {
          "base_uri": "https://localhost:8080/"
        },
        "id": "ARo51PZCuLVw",
        "outputId": "72e0329f-c92a-4a9a-f25d-95476af98536"
      },
      "execution_count": null,
      "outputs": [
        {
          "output_type": "stream",
          "name": "stdout",
          "text": [
            "{'gender': 'male', 'country_of_origin': 'United States', 'profession': ['business magnate', 'investor', 'philanthropist']}\n"
          ]
        }
      ]
    },
    {
      "cell_type": "code",
      "source": [
        "total_tokens_base = response.usage.total_tokens\n",
        "print(total_tokens_base)"
      ],
      "metadata": {
        "colab": {
          "base_uri": "https://localhost:8080/"
        },
        "id": "D6m9Rr7EuN-8",
        "outputId": "d1af74ee-189b-4d67-d72b-40a27ac715c8"
      },
      "execution_count": null,
      "outputs": [
        {
          "output_type": "stream",
          "name": "stdout",
          "text": [
            "196\n"
          ]
        }
      ]
    },
    {
      "cell_type": "markdown",
      "source": [
        "As you can see, while we did get a response that *contains* valid JSON - we also got back a number of useless (for our use-case) tokens.\n",
        "\n",
        "Now, let's fine-tune the model and see what we can come up with."
      ],
      "metadata": {
        "id": "weVgEKUvcCQq"
      }
    },
    {
      "cell_type": "markdown",
      "source": [
        "## Dataset Creation\n",
        "\n",
        "In order to fine-tune `gpt-3.5-turbo`, it's recommended we use **10-100** examples.\n",
        "\n",
        "That is an incredibly small number - and would be inexpensive even if you were paying for human annotation.\n",
        "\n",
        "We'll work off of a sample dataset that I generated for this task that has 20 entries!"
      ],
      "metadata": {
        "id": "aTTjBJV-cLxT"
      }
    },
    {
      "cell_type": "markdown",
      "source": [
        "#### Dataset"
      ],
      "metadata": {
        "id": "Q01GaLAI_5W6"
      }
    },
    {
      "cell_type": "code",
      "source": [
        "examples = [\n",
        "    {\"description\" : \"Malala Yousafzai is a Pakistani education activist known for her advocacy of female education in her native Swat Valley in Khyber Pakhtunkhwa, Pakistan. She survived an assassination attempt by the Taliban and went on to become a global symbol of education and empowerment.\",\n",
        "     \"json\" : {\n",
        "      \"gender\": \"female\",\n",
        "      \"country_of_origin\": \"Pakistan\",\n",
        "      \"profession\": \"education activist\"\n",
        "    }},\n",
        "    {\"description\" : \"Shah Rukh Khan is an Indian actor, film producer, and television personality. Often referred to as the 'King of Bollywood,' he has appeared in over 80 Bollywood films and is one of the richest actors in the world.\",\n",
        "     \"json\" : {\n",
        "      \"gender\": \"male\",\n",
        "      \"country_of_origin\": \"India\",\n",
        "      \"profession\": \"actor, film producer, and television personality\"\n",
        "    }},\n",
        "    {\"description\" : \"Serena Williams is an American professional tennis player widely regarded as one of the greatest female players in tennis history. She has won numerous Grand Slam titles and has been an advocate for gender equality in sports.\",\n",
        "        \"json\" : {\n",
        "      \"gender\": \"female\",\n",
        "      \"country_of_origin\": \"United States\",\n",
        "      \"profession\": \"professional tennis player\"\n",
        "    }},\n",
        "    {\"description\" : \"Nelson Mandela was a South African anti-apartheid revolutionary, political leader, and philanthropist who served as President of South Africa from 1994 to 1999. He is a symbol of resistance against racial segregation and injustice.\",\n",
        "     \"json\" : {\n",
        "      \"gender\": \"male\",\n",
        "      \"country_of_origin\": \"South Africa\",\n",
        "      \"profession\": \"political leader and philanthropist\"\n",
        "    }},\n",
        "    {\"description\" : \"Aishwarya Rai Bachchan is an Indian actress and the winner of the Miss World 1994 pageant. She has appeared in numerous Bollywood films and is regarded as one of the most influential and beautiful actresses in the industry.\",\n",
        "     \"json\" : {\n",
        "      \"gender\": \"female\",\n",
        "      \"country_of_origin\": \"India\",\n",
        "      \"profession\": \"actress\"\n",
        "    }},\n",
        "    {\"description\" : \"Elon Musk is a South African-born American entrepreneur and business magnate. He is known for his roles in companies like Tesla, SpaceX, and Neuralink, as well as his ambitious visions for the future.\",\n",
        "     \"json\" : {\n",
        "      \"gender\": \"male\",\n",
        "      \"country_of_origin\": \"South Africa\",\n",
        "      \"profession\": \"entrepreneur and business magnate\"\n",
        "    }},\n",
        "    {\"description\" : \"Angela Merkel is a German politician who served as the Chancellor of Germany from 2005 to 2021. She is known for her strong leadership and influence on European and global politics.\",\n",
        "     \"json\" : {\n",
        "      \"gender\": \"female\",\n",
        "      \"country_of_origin\": \"Germany\",\n",
        "      \"profession\": \"politician\"\n",
        "    }},\n",
        "    {\"description\" : \"Cristiano Ronaldo is a Portuguese professional footballer widely considered one of the greatest players of all time. He has won numerous awards and accolades throughout his career and has played for top clubs like Manchester United, Real Madrid, and Juventus.\",\n",
        "     \"json\" : {\n",
        "      \"gender\": \"male\",\n",
        "      \"country_of_origin\": \"Portugal\",\n",
        "      \"profession\": \"professional footballer\"\n",
        "    }},\n",
        "    {\"description\" : \"Priyanka Chopra is an Indian actress, singer, and film producer. She has become one of India's highest-paid and most popular celebrities, and she has received several awards, including a National Film Award and five Filmfare Awards.\",\n",
        "     \"json\" : {\n",
        "      \"gender\": \"female\",\n",
        "      \"country_of_origin\": \"India\",\n",
        "      \"profession\": \"actress, singer, and film producer\"\n",
        "    }},\n",
        "    {\"description\" : \"James Eugene Carrey is a Canadian and American actor and comedian. Known for his energetic slapstick performances, Carrey first gained recognition in 1990, after landing a role in the American sketch comedy television series In Living Color.\",\n",
        "     \"json\" : {\n",
        "      \"gender\": \"male\",\n",
        "      \"country_of_origin\": \"Canada\",\n",
        "      \"profession\": \"actor and comedian\"\n",
        "    }},\n",
        "    {\"description\" : \"Frida Kahlo was a Mexican painter known for her unique style and self-portraits. Her artworks often reflected her physical and emotional pain, and she remains an icon for her contributions to art and feminism.\",\n",
        "     \"json\" : {\n",
        "      \"gender\": \"female\",\n",
        "      \"country_of_origin\": \"Mexico\",\n",
        "      \"profession\": \"painter\"\n",
        "    }},\n",
        "        {\"description\" : \"Yao Ming is a retired Chinese basketball player and an international sports ambassador. Standing at 7 feet 6 inches tall, he played in the NBA and became a bridge between American and Chinese basketball cultures.\",\n",
        "        \"json\" : {\n",
        "      \"gender\": \"male\",\n",
        "      \"country_of_origin\": \"China\",\n",
        "      \"profession\": \"retired basketball player\"\n",
        "    }},\n",
        "    {\"description\" : \"J.K. Rowling is a British author best known for her 'Harry Potter' series of novels. Her books have captivated millions of readers worldwide and have been adapted into a successful film franchise.\",\n",
        "     \"json\" : {\n",
        "      \"gender\": \"female\",\n",
        "      \"country_of_origin\": \"United Kingdom\",\n",
        "      \"profession\": \"author\"\n",
        "    }},\n",
        "    {\"description\" : \"Marie Curie was a Polish physicist and chemist who conducted pioneering research on radioactivity. She was the first woman to win a Nobel Prize and remains an inspiration for her contributions to science and the advancement of women in STEM fields.\",\n",
        "     \"json\" : {\n",
        "      \"gender\": \"female\",\n",
        "      \"country_of_origin\": \"Poland\",\n",
        "      \"profession\": \"physicist and chemist\"\n",
        "    }},\n",
        "    {\"description\" : \"Diego Maradona was an Argentine professional footballer and one of the greatest players in the history of the sport. His skill, creativity, and controversial moments on and off the field have made him a legendary figure.\",\n",
        "     \"json\" : {\n",
        "      \"gender\": \"male\",\n",
        "      \"country_of_origin\": \"Argentina\",\n",
        "      \"profession\": \"professional footballer\"\n",
        "    }},\n",
        "    {\"description\" : \"Indira Gandhi was an Indian politician and stateswoman who served as the Prime Minister of India for multiple terms. She played a significant role in shaping India's political landscape and international relations during her leadership.\",\n",
        "     \"json\" : {\n",
        "      \"gender\": \"female\",\n",
        "      \"country_of_origin\": \"India\",\n",
        "      \"profession\": \"politician and stateswoman\"\n",
        "    }},\n",
        "    {\"description\" : \"Akira Kurosawa was a Japanese film director and screenwriter, regarded as one of the most important and influential filmmakers in the history of cinema. His films, such as 'Seven Samurai' and 'Rashomon,' have left a lasting impact on global cinema.\",\n",
        "     \"json\" : {\n",
        "      \"gender\": \"male\",\n",
        "      \"country_of_origin\": \"Japan\",\n",
        "      \"profession\": \"film director and screenwriter\"\n",
        "    }},\n",
        "    {\"description\" : \"Michelle Obama is an American lawyer, author, and former First Lady of the United States. She is an advocate for education, health, military families, and women's rights, and she has written a bestselling memoir titled 'Becoming.'\",\n",
        "     \"json\" : {\n",
        "      \"gender\": \"female\",\n",
        "      \"country_of_origin\": \"United States\",\n",
        "      \"profession\": \"lawyer, author, and former First Lady\"\n",
        "    }},\n",
        "    {\"description\" : \"Leonardo da Vinci was an Italian polymath of the Renaissance period. He is known for his expertise in various fields, including painting, anatomy, engineering, and invention. His iconic artwork 'Mona Lisa' is celebrated worldwide.\",\n",
        "     \"json\" : {\n",
        "      \"gender\": \"male\",\n",
        "      \"country_of_origin\": \"Italy\",\n",
        "      \"profession\": \"polymath\"\n",
        "    }},\n",
        "    {\"description\" : \"Maya Angelou was an American poet, memoirist, and civil rights activist. Her works, such as 'I Know Why the Caged Bird Sings,' have touched hearts and minds, and she used her voice to advocate for social change.\",\n",
        "     \"json\" : {\n",
        "      \"gender\": \"female\",\n",
        "      \"country_of_origin\": \"United States\",\n",
        "      \"profession\": \"poet, memoirist, and civil rights activist\"\n",
        "    }},\n",
        "]"
      ],
      "metadata": {
        "id": "8pCvCAyTe3c8"
      },
      "execution_count": null,
      "outputs": []
    },
    {
      "cell_type": "code",
      "source": [
        "len(examples)"
      ],
      "metadata": {
        "colab": {
          "base_uri": "https://localhost:8080/"
        },
        "id": "40fzFnX0iOwo",
        "outputId": "2bbe8c75-cb69-4480-fdb8-4ee7d75a439a"
      },
      "execution_count": null,
      "outputs": [
        {
          "output_type": "execute_result",
          "data": {
            "text/plain": [
              "20"
            ]
          },
          "metadata": {},
          "execution_count": 31
        }
      ]
    },
    {
      "cell_type": "markdown",
      "source": [
        "#### Converting the Dataset"
      ],
      "metadata": {
        "id": "9cGzO5WC_8Un"
      }
    },
    {
      "cell_type": "code",
      "source": [
        "def convert_format(example_row):\n",
        "  role_message = {\"role\": \"system\", \"content\": 'Given a short biography, provide the following fields in a JSON dict, where applicable: \"gender\", \"country_of_origin\", and \"profession\".'}\n",
        "  user_message = {\"role\" : \"user\", \"content\" : example_row[\"description\"]}\n",
        "  json_blob = example_row[\"json\"]\n",
        "  assistant_message = {\"role\": \"assistant\", \"content\": str(json_blob)}\n",
        "  return {\"messages\" : [role_message, user_message, assistant_message]}"
      ],
      "metadata": {
        "id": "8vxbxr-MisW7"
      },
      "execution_count": null,
      "outputs": []
    },
    {
      "cell_type": "code",
      "source": [
        "prepare_dataset = []\n",
        "\n",
        "for example in examples:\n",
        "  prepare_dataset.append(convert_format(example))"
      ],
      "metadata": {
        "id": "hhiK0j4MkLpo"
      },
      "execution_count": null,
      "outputs": []
    },
    {
      "cell_type": "code",
      "source": [
        "import json\n",
        "\n",
        "with open('training_file.jsonl', 'w') as outfile:\n",
        "    for entry in prepare_dataset:\n",
        "        json.dump(entry, outfile)\n",
        "        outfile.write('\\n')"
      ],
      "metadata": {
        "id": "7qusnXBGlH1L"
      },
      "execution_count": null,
      "outputs": []
    },
    {
      "cell_type": "markdown",
      "source": [
        "Now that we have our dataset created and saved in an appropriate format - let's go ahead and get started with our fine-tuning!\n",
        "\n",
        "We'll be leveraging this resource as a base for the following code:\n",
        "\n",
        "[Fine-tuning](https://platform.openai.com/docs/guides/fine-tuning)"
      ],
      "metadata": {
        "id": "GGkTfl1JABwD"
      }
    },
    {
      "cell_type": "markdown",
      "source": [
        "#### Prepare Data\n",
        "\n",
        "First things first, we need to upload our file to be leveraged during fine-tuning."
      ],
      "metadata": {
        "id": "7ixFp6XjAZlc"
      }
    },
    {
      "cell_type": "code",
      "source": [
        "file_response = openai.File.create(file=open(\"training_file.jsonl\", \"rb\"), purpose='fine-tune')"
      ],
      "metadata": {
        "id": "LtO0V8lslCmU"
      },
      "execution_count": null,
      "outputs": []
    },
    {
      "cell_type": "code",
      "source": [
        "file_response"
      ],
      "metadata": {
        "colab": {
          "base_uri": "https://localhost:8080/"
        },
        "id": "90MnCS8dvxkb",
        "outputId": "4d6f7a6e-759b-46d4-9305-ee20a42032f1"
      },
      "execution_count": null,
      "outputs": [
        {
          "output_type": "execute_result",
          "data": {
            "text/plain": [
              "<File file id=file-nnu2QlRSWjWOBivO1IWynvPT at 0x797d340dd990> JSON: {\n",
              "  \"object\": \"file\",\n",
              "  \"id\": \"file-nnu2QlRSWjWOBivO1IWynvPT\",\n",
              "  \"purpose\": \"fine-tune\",\n",
              "  \"filename\": \"file\",\n",
              "  \"bytes\": 11659,\n",
              "  \"created_at\": 1692839004,\n",
              "  \"status\": \"uploaded\",\n",
              "  \"status_details\": null\n",
              "}"
            ]
          },
          "metadata": {},
          "execution_count": 36
        }
      ]
    },
    {
      "cell_type": "markdown",
      "source": [
        "Now that we've done that, we'll need to wait a second before we can use that file to create our fine-tuning job.\n",
        "\n",
        "You'll notice that all we need to do is provide:\n",
        "\n",
        "- `training_file`: the training `file.id`, which we can collect from the response from our `openai.File.create()` endpoint.\n",
        "- `model`: the model we wish to fine-tune"
      ],
      "metadata": {
        "id": "uihnTqYbAfpX"
      }
    },
    {
      "cell_type": "code",
      "source": [
        "import time\n",
        "\n",
        "response = None\n",
        "\n",
        "while not response:\n",
        "  try:\n",
        "    response = openai.FineTuningJob.create(training_file=file_response.id, model=\"gpt-3.5-turbo\")\n",
        "  except:\n",
        "    time.sleep(5)"
      ],
      "metadata": {
        "id": "LDURlTWSlXmJ"
      },
      "execution_count": null,
      "outputs": []
    },
    {
      "cell_type": "markdown",
      "source": [
        "This gives us a response which includes a number of important pieces of information!\n",
        "\n",
        "We'll be leveraging the `FineTuningJob.id` to monitor and keep track of our fine-tuning!"
      ],
      "metadata": {
        "id": "iy7C3n3rA0bd"
      }
    },
    {
      "cell_type": "code",
      "source": [
        "response"
      ],
      "metadata": {
        "colab": {
          "base_uri": "https://localhost:8080/"
        },
        "id": "_9WGH4z8w7G4",
        "outputId": "ec5266b6-d943-48c2-b1a5-5344e59d0ad7"
      },
      "execution_count": null,
      "outputs": [
        {
          "output_type": "execute_result",
          "data": {
            "text/plain": [
              "<FineTuningJob fine_tuning.job id=ftjob-TObsbUnaxIZJxBFrXDzP3kKh at 0x797d340dc860> JSON: {\n",
              "  \"object\": \"fine_tuning.job\",\n",
              "  \"id\": \"ftjob-TObsbUnaxIZJxBFrXDzP3kKh\",\n",
              "  \"model\": \"gpt-3.5-turbo-0613\",\n",
              "  \"created_at\": 1692839016,\n",
              "  \"finished_at\": null,\n",
              "  \"fine_tuned_model\": null,\n",
              "  \"organization_id\": \"org-VrtlDUDw6aAbBGBDNn1W797P\",\n",
              "  \"result_files\": [],\n",
              "  \"status\": \"created\",\n",
              "  \"validation_file\": null,\n",
              "  \"training_file\": \"file-nnu2QlRSWjWOBivO1IWynvPT\",\n",
              "  \"hyperparameters\": {\n",
              "    \"n_epochs\": 5\n",
              "  },\n",
              "  \"trained_tokens\": null\n",
              "}"
            ]
          },
          "metadata": {},
          "execution_count": 38
        }
      ]
    },
    {
      "cell_type": "markdown",
      "source": [
        "Notice that we can see a number of pieces of information that might be relevant to our process - but we're going to only focus on `status` in this notebook.\n",
        "\n",
        "We'll set our `training_id` so we can use it programmatically."
      ],
      "metadata": {
        "id": "JQ5LeCj0Cj-F"
      }
    },
    {
      "cell_type": "code",
      "source": [
        "training_id = response.id"
      ],
      "metadata": {
        "id": "NTy4isJxv-k1"
      },
      "execution_count": null,
      "outputs": []
    },
    {
      "cell_type": "markdown",
      "source": [
        "We can query the fine-tuning jobs, in case you didn't collect your `training_id` or have multiple jobs, or want to view a history of your jobs!"
      ],
      "metadata": {
        "id": "r-vARPOiCzmU"
      }
    },
    {
      "cell_type": "code",
      "source": [
        "# List 10 fine-tuning jobs\n",
        "response = openai.FineTuningJob.list(limit=10)"
      ],
      "metadata": {
        "id": "M74nNu6bl7Kb"
      },
      "execution_count": null,
      "outputs": []
    },
    {
      "cell_type": "code",
      "source": [
        "response"
      ],
      "metadata": {
        "colab": {
          "base_uri": "https://localhost:8080/"
        },
        "id": "aJpsgpZfoUHm",
        "outputId": "533d8f79-3d69-49ca-99f1-8b3283fbc064"
      },
      "execution_count": null,
      "outputs": [
        {
          "output_type": "execute_result",
          "data": {
            "text/plain": [
              "<OpenAIObject list at 0x797d19b13e20> JSON: {\n",
              "  \"object\": \"list\",\n",
              "  \"data\": [\n",
              "    {\n",
              "      \"object\": \"fine_tuning.job\",\n",
              "      \"id\": \"ftjob-TObsbUnaxIZJxBFrXDzP3kKh\",\n",
              "      \"model\": \"gpt-3.5-turbo-0613\",\n",
              "      \"created_at\": 1692839016,\n",
              "      \"finished_at\": null,\n",
              "      \"fine_tuned_model\": null,\n",
              "      \"organization_id\": \"org-VrtlDUDw6aAbBGBDNn1W797P\",\n",
              "      \"result_files\": [],\n",
              "      \"status\": \"created\",\n",
              "      \"validation_file\": null,\n",
              "      \"training_file\": \"file-nnu2QlRSWjWOBivO1IWynvPT\",\n",
              "      \"hyperparameters\": {\n",
              "        \"n_epochs\": 5\n",
              "      },\n",
              "      \"trained_tokens\": null\n",
              "    },\n",
              "    {\n",
              "      \"object\": \"fine_tuning.job\",\n",
              "      \"id\": \"ftjob-Y84XFcrlG77MOK4W54rEInT7\",\n",
              "      \"model\": \"gpt-3.5-turbo-0613\",\n",
              "      \"created_at\": 1692838393,\n",
              "      \"finished_at\": 1692838961,\n",
              "      \"fine_tuned_model\": \"ft:gpt-3.5-turbo-0613:ox::7qt274Md\",\n",
              "      \"organization_id\": \"org-VrtlDUDw6aAbBGBDNn1W797P\",\n",
              "      \"result_files\": [\n",
              "        \"file-7EEz7LBHIG6c62sdQjeLtuZV\"\n",
              "      ],\n",
              "      \"status\": \"succeeded\",\n",
              "      \"validation_file\": null,\n",
              "      \"training_file\": \"file-BozB6fs4FzTyqyEaJLEq3qND\",\n",
              "      \"hyperparameters\": {\n",
              "        \"n_epochs\": 5\n",
              "      },\n",
              "      \"trained_tokens\": 11165\n",
              "    },\n",
              "    {\n",
              "      \"object\": \"fine_tuning.job\",\n",
              "      \"id\": \"ftjob-e4cFCN3d2saZv8Be9C7EC30W\",\n",
              "      \"model\": \"gpt-3.5-turbo-0613\",\n",
              "      \"created_at\": 1692835262,\n",
              "      \"finished_at\": 1692835833,\n",
              "      \"fine_tuned_model\": \"ft:gpt-3.5-turbo-0613:ox::7qsDfTZv\",\n",
              "      \"organization_id\": \"org-VrtlDUDw6aAbBGBDNn1W797P\",\n",
              "      \"result_files\": [\n",
              "        \"file-kCKG0nipTto6d6AmRnGsjlet\"\n",
              "      ],\n",
              "      \"status\": \"succeeded\",\n",
              "      \"validation_file\": null,\n",
              "      \"training_file\": \"file-JpxjYjnZxvcwk3z6DBw516G5\",\n",
              "      \"hyperparameters\": {\n",
              "        \"n_epochs\": 5\n",
              "      },\n",
              "      \"trained_tokens\": 11165\n",
              "    },\n",
              "    {\n",
              "      \"object\": \"fine_tuning.job\",\n",
              "      \"id\": \"ftjob-MDzElmZg2LT5zyI95oBJOiHe\",\n",
              "      \"model\": \"gpt-3.5-turbo-0613\",\n",
              "      \"created_at\": 1692834310,\n",
              "      \"finished_at\": 1692834879,\n",
              "      \"fine_tuned_model\": \"ft:gpt-3.5-turbo-0613:ox::7qryHXgW\",\n",
              "      \"organization_id\": \"org-VrtlDUDw6aAbBGBDNn1W797P\",\n",
              "      \"result_files\": [\n",
              "        \"file-ta0srbtV9tXEzTVO00b3XSk5\"\n",
              "      ],\n",
              "      \"status\": \"succeeded\",\n",
              "      \"validation_file\": null,\n",
              "      \"training_file\": \"file-8HPT759VNkSOCXNXuoTLRNaj\",\n",
              "      \"hyperparameters\": {\n",
              "        \"n_epochs\": 5\n",
              "      },\n",
              "      \"trained_tokens\": 11165\n",
              "    },\n",
              "    {\n",
              "      \"object\": \"fine_tuning.job\",\n",
              "      \"id\": \"ftjob-fk91ykkFQoUQAAUSdWAWL5jJ\",\n",
              "      \"model\": \"gpt-3.5-turbo-0613\",\n",
              "      \"created_at\": 1692833652,\n",
              "      \"finished_at\": 1692834219,\n",
              "      \"fine_tuned_model\": \"ft:gpt-3.5-turbo-0613:ox::7qrncY0O\",\n",
              "      \"organization_id\": \"org-VrtlDUDw6aAbBGBDNn1W797P\",\n",
              "      \"result_files\": [\n",
              "        \"file-LanRoiYx3LdPEKdXaptr4qBp\"\n",
              "      ],\n",
              "      \"status\": \"succeeded\",\n",
              "      \"validation_file\": null,\n",
              "      \"training_file\": \"file-JAiYihVpr07TBvslnndG8ocq\",\n",
              "      \"hyperparameters\": {\n",
              "        \"n_epochs\": 5\n",
              "      },\n",
              "      \"trained_tokens\": 11165\n",
              "    },\n",
              "    {\n",
              "      \"object\": \"fine_tuning.job\",\n",
              "      \"id\": \"ftjob-8A590FzsnIs5SnJjDokROMah\",\n",
              "      \"model\": \"gpt-3.5-turbo-0613\",\n",
              "      \"created_at\": 1692832409,\n",
              "      \"finished_at\": 1692832974,\n",
              "      \"fine_tuned_model\": \"ft:gpt-3.5-turbo-0613:ox::7qrTYkNG\",\n",
              "      \"organization_id\": \"org-VrtlDUDw6aAbBGBDNn1W797P\",\n",
              "      \"result_files\": [\n",
              "        \"file-G4vZPbVvuGZWnfHT847o3vWe\"\n",
              "      ],\n",
              "      \"status\": \"succeeded\",\n",
              "      \"validation_file\": null,\n",
              "      \"training_file\": \"file-O2Mw3QXi5GzQxh3TEvgZXLkE\",\n",
              "      \"hyperparameters\": {\n",
              "        \"n_epochs\": 5\n",
              "      },\n",
              "      \"trained_tokens\": 11165\n",
              "    },\n",
              "    {\n",
              "      \"object\": \"fine_tuning.job\",\n",
              "      \"id\": \"ftjob-O91m8nHe2kgdQajdFaqFYiba\",\n",
              "      \"model\": \"gpt-3.5-turbo-0613\",\n",
              "      \"created_at\": 1692831140,\n",
              "      \"finished_at\": 1692831715,\n",
              "      \"fine_tuned_model\": \"ft:gpt-3.5-turbo-0613:ox::7qr9F1Vb\",\n",
              "      \"organization_id\": \"org-VrtlDUDw6aAbBGBDNn1W797P\",\n",
              "      \"result_files\": [\n",
              "        \"file-LAc7s3E3wbLVy620JXVe9F0A\"\n",
              "      ],\n",
              "      \"status\": \"succeeded\",\n",
              "      \"validation_file\": null,\n",
              "      \"training_file\": \"file-M5dSOcMByRucXVVuMuiEiN9r\",\n",
              "      \"hyperparameters\": {\n",
              "        \"n_epochs\": 5\n",
              "      },\n",
              "      \"trained_tokens\": 11165\n",
              "    }\n",
              "  ],\n",
              "  \"has_more\": false\n",
              "}"
            ]
          },
          "metadata": {},
          "execution_count": 41
        }
      ]
    },
    {
      "cell_type": "code",
      "source": [
        "openai.FineTuningJob.retrieve(training_id)"
      ],
      "metadata": {
        "colab": {
          "base_uri": "https://localhost:8080/"
        },
        "id": "mTt8yPS5n44D",
        "outputId": "873dc8e2-696d-4b55-cda8-7e942dac1a70"
      },
      "execution_count": null,
      "outputs": [
        {
          "output_type": "execute_result",
          "data": {
            "text/plain": [
              "<FineTuningJob fine_tuning.job id=ftjob-TObsbUnaxIZJxBFrXDzP3kKh at 0x797d19b2f8d0> JSON: {\n",
              "  \"object\": \"fine_tuning.job\",\n",
              "  \"id\": \"ftjob-TObsbUnaxIZJxBFrXDzP3kKh\",\n",
              "  \"model\": \"gpt-3.5-turbo-0613\",\n",
              "  \"created_at\": 1692839016,\n",
              "  \"finished_at\": null,\n",
              "  \"fine_tuned_model\": null,\n",
              "  \"organization_id\": \"org-VrtlDUDw6aAbBGBDNn1W797P\",\n",
              "  \"result_files\": [],\n",
              "  \"status\": \"running\",\n",
              "  \"validation_file\": null,\n",
              "  \"training_file\": \"file-nnu2QlRSWjWOBivO1IWynvPT\",\n",
              "  \"hyperparameters\": {\n",
              "    \"n_epochs\": 5\n",
              "  },\n",
              "  \"trained_tokens\": null\n",
              "}"
            ]
          },
          "metadata": {},
          "execution_count": 42
        }
      ]
    },
    {
      "cell_type": "markdown",
      "source": [
        "We'll build a loop that waits for our job to be complete, but provides us with updates we pull from the `list_events`, which will let us see how our fine-tuning is going!"
      ],
      "metadata": {
        "id": "PwJz1BiBC8np"
      }
    },
    {
      "cell_type": "code",
      "source": [
        "from IPython.display import clear_output\n",
        "\n",
        "while openai.FineTuningJob.retrieve(training_id).status == \"running\":\n",
        "  clear_output(wait=True)\n",
        "  time.sleep(5)\n",
        "  print(openai.FineTuningJob.list_events(id=training_id, limit=10))\n",
        "\n",
        "print(\"Done!\")"
      ],
      "metadata": {
        "colab": {
          "base_uri": "https://localhost:8080/"
        },
        "id": "1MXLo-7QofgH",
        "outputId": "806a7a2e-e864-4ebc-d3ff-779bc430f710"
      },
      "execution_count": null,
      "outputs": [
        {
          "output_type": "stream",
          "name": "stdout",
          "text": [
            "{\n",
            "  \"object\": \"list\",\n",
            "  \"data\": [\n",
            "    {\n",
            "      \"object\": \"fine_tuning.job.event\",\n",
            "      \"id\": \"ftevent-0wueVjVszJJ573fYQukBsAab\",\n",
            "      \"created_at\": 1692839185,\n",
            "      \"level\": \"warn\",\n",
            "      \"message\": \"Fine tuning job failed, re-enqueued for retry\",\n",
            "      \"data\": null,\n",
            "      \"type\": \"message\"\n",
            "    },\n",
            "    {\n",
            "      \"object\": \"fine_tuning.job.event\",\n",
            "      \"id\": \"ftevent-B6MyDexQsW6VVQUTl1QsTbxx\",\n",
            "      \"created_at\": 1692839016,\n",
            "      \"level\": \"info\",\n",
            "      \"message\": \"Fine tuning job started\",\n",
            "      \"data\": null,\n",
            "      \"type\": \"message\"\n",
            "    },\n",
            "    {\n",
            "      \"object\": \"fine_tuning.job.event\",\n",
            "      \"id\": \"ftevent-uLwQX3kZD9fhsC4Yabj2F8Hx\",\n",
            "      \"created_at\": 1692839016,\n",
            "      \"level\": \"info\",\n",
            "      \"message\": \"Created fine-tune: ftjob-TObsbUnaxIZJxBFrXDzP3kKh\",\n",
            "      \"data\": null,\n",
            "      \"type\": \"message\"\n",
            "    }\n",
            "  ],\n",
            "  \"has_more\": false\n",
            "}\n",
            "Done!\n"
          ]
        }
      ]
    },
    {
      "cell_type": "code",
      "source": [
        "openai.FineTuningJob.retrieve(training_id)"
      ],
      "metadata": {
        "colab": {
          "base_uri": "https://localhost:8080/"
        },
        "id": "I3i8D6PDo4PL",
        "outputId": "4a54fb21-bbb5-4be7-a705-92648423ee85"
      },
      "execution_count": null,
      "outputs": [
        {
          "output_type": "execute_result",
          "data": {
            "text/plain": [
              "<FineTuningJob fine_tuning.job id=ftjob-TObsbUnaxIZJxBFrXDzP3kKh at 0x797d19b2ff10> JSON: {\n",
              "  \"object\": \"fine_tuning.job\",\n",
              "  \"id\": \"ftjob-TObsbUnaxIZJxBFrXDzP3kKh\",\n",
              "  \"model\": \"gpt-3.5-turbo-0613\",\n",
              "  \"created_at\": 1692839016,\n",
              "  \"finished_at\": null,\n",
              "  \"fine_tuned_model\": null,\n",
              "  \"organization_id\": \"org-VrtlDUDw6aAbBGBDNn1W797P\",\n",
              "  \"result_files\": [],\n",
              "  \"status\": \"created\",\n",
              "  \"validation_file\": null,\n",
              "  \"training_file\": \"file-nnu2QlRSWjWOBivO1IWynvPT\",\n",
              "  \"hyperparameters\": {\n",
              "    \"n_epochs\": 5\n",
              "  },\n",
              "  \"trained_tokens\": null\n",
              "}"
            ]
          },
          "metadata": {},
          "execution_count": 44
        }
      ]
    },
    {
      "cell_type": "code",
      "source": [
        "ft_model_id = openai.FineTuningJob.retrieve(training_id).fine_tuned_model"
      ],
      "metadata": {
        "id": "HkPe3bFOpIFx"
      },
      "execution_count": null,
      "outputs": []
    },
    {
      "cell_type": "code",
      "source": [
        "ft_model_id"
      ],
      "metadata": {
        "colab": {
          "base_uri": "https://localhost:8080/",
          "height": 35
        },
        "id": "B2c6P2h8JK1G",
        "outputId": "aedcbd38-cc42-4ca8-c2f0-1d368ff79fe1"
      },
      "execution_count": null,
      "outputs": [
        {
          "output_type": "execute_result",
          "data": {
            "text/plain": [
              "'ft:gpt-3.5-turbo-0613:ox::7qtF4nDj'"
            ],
            "application/vnd.google.colaboratory.intrinsic+json": {
              "type": "string"
            }
          },
          "metadata": {},
          "execution_count": 51
        }
      ]
    },
    {
      "cell_type": "markdown",
      "source": [
        "Now we can call our model by address its `fine_tuned_model` id!"
      ],
      "metadata": {
        "id": "JQcPf8x1DHnC"
      }
    },
    {
      "cell_type": "code",
      "source": [
        "completion = openai.ChatCompletion.create(\n",
        "  model=ft_model_id,\n",
        "  messages=[\n",
        "    {\"role\": \"system\", \"content\": 'Given a short biography, provide the following fields in a JSON dict, where applicable: \"gender\", \"country_of_origin\", and \"profession\".'},\n",
        "    {\"role\": \"user\", \"content\": \"William Henry Gates III (born October 28, 1955) is an American business magnate, investor, and philanthropist best known for co-founding the software giant Microsoft along with his childhood friend Paul Allen.[2][3] During his career at Microsoft, Gates held the positions of chairman, chief executive officer (CEO), president, and chief software architect, while also being its largest individual shareholder until May 2014.[4] He was a major entrepreneur of the microcomputer revolution of the 1970s and 1980s.\"}\n",
        "  ]\n",
        ")"
      ],
      "metadata": {
        "id": "jIRVmVrPo7AX"
      },
      "execution_count": null,
      "outputs": []
    },
    {
      "cell_type": "code",
      "source": [
        "completion"
      ],
      "metadata": {
        "colab": {
          "base_uri": "https://localhost:8080/"
        },
        "id": "4sanqIQ5pWLw",
        "outputId": "1c3d122b-bfc5-4e8f-a419-54d5a054684c"
      },
      "execution_count": null,
      "outputs": [
        {
          "output_type": "execute_result",
          "data": {
            "text/plain": [
              "<OpenAIObject chat.completion id=chatcmpl-7qtNzwS2whXuXicMiCZZAMIagNxXc at 0x797d37e43060> JSON: {\n",
              "  \"id\": \"chatcmpl-7qtNzwS2whXuXicMiCZZAMIagNxXc\",\n",
              "  \"object\": \"chat.completion\",\n",
              "  \"created\": 1692840315,\n",
              "  \"model\": \"ft:gpt-3.5-turbo-0613:ox::7qtF4nDj\",\n",
              "  \"choices\": [\n",
              "    {\n",
              "      \"index\": 0,\n",
              "      \"message\": {\n",
              "        \"role\": \"assistant\",\n",
              "        \"content\": \"{'gender': 'male', 'country_of_origin': 'United States', 'profession': 'business magnate, investor, and philanthropist'}\"\n",
              "      },\n",
              "      \"finish_reason\": \"stop\"\n",
              "    }\n",
              "  ],\n",
              "  \"usage\": {\n",
              "    \"prompt_tokens\": 152,\n",
              "    \"completion_tokens\": 30,\n",
              "    \"total_tokens\": 182\n",
              "  }\n",
              "}"
            ]
          },
          "metadata": {},
          "execution_count": 54
        }
      ]
    },
    {
      "cell_type": "code",
      "source": [
        "completion.choices[0].message.content"
      ],
      "metadata": {
        "colab": {
          "base_uri": "https://localhost:8080/",
          "height": 52
        },
        "id": "NRLbXVFZpYOs",
        "outputId": "0a2921d0-f90c-4580-d042-83f2cea1e073"
      },
      "execution_count": null,
      "outputs": [
        {
          "output_type": "execute_result",
          "data": {
            "text/plain": [
              "\"{'gender': 'male', 'country_of_origin': 'United States', 'profession': 'business magnate, investor, and philanthropist'}\""
            ],
            "application/vnd.google.colaboratory.intrinsic+json": {
              "type": "string"
            }
          },
          "metadata": {},
          "execution_count": 55
        }
      ]
    },
    {
      "cell_type": "code",
      "source": [
        "print(ast.literal_eval(completion.choices[0].message.content))"
      ],
      "metadata": {
        "colab": {
          "base_uri": "https://localhost:8080/"
        },
        "id": "RTLbXHsOpi_Y",
        "outputId": "6de06d74-afbb-4fd9-bb41-84aad04b678c"
      },
      "execution_count": null,
      "outputs": [
        {
          "output_type": "stream",
          "name": "stdout",
          "text": [
            "{'gender': 'male', 'country_of_origin': 'United States', 'profession': 'business magnate, investor, and philanthropist'}\n"
          ]
        }
      ]
    },
    {
      "cell_type": "code",
      "source": [
        "total_tokens_ft = completion.usage.total_tokens\n",
        "print(total_tokens_ft)"
      ],
      "metadata": {
        "colab": {
          "base_uri": "https://localhost:8080/"
        },
        "id": "gl9VpeaEugNb",
        "outputId": "63a127af-987b-403a-d807-3a62f1826cd7"
      },
      "execution_count": null,
      "outputs": [
        {
          "output_type": "stream",
          "name": "stdout",
          "text": [
            "182\n"
          ]
        }
      ]
    },
    {
      "cell_type": "markdown",
      "source": [
        "As you can see, while we're not saving a *lot* of tokens - over millions of calls, and with only 20 examples in a lightweight toy example - we're saving anywhere from ~2-8 tokens per call, all while (essentially) guarenteeing our target output!"
      ],
      "metadata": {
        "id": "Zl-IzBuIDPEv"
      }
    },
    {
      "cell_type": "code",
      "source": [
        "print(f\"Base Model: {total_tokens_base}\\nFine-tuned Model: {total_tokens_ft}\")"
      ],
      "metadata": {
        "colab": {
          "base_uri": "https://localhost:8080/"
        },
        "id": "Z7tIR1VVujcV",
        "outputId": "549db59b-dc19-4bd7-947a-652d0e72709b"
      },
      "execution_count": null,
      "outputs": [
        {
          "output_type": "stream",
          "name": "stdout",
          "text": [
            "Base Model: 196\n",
            "Fine-tuned Model: 182\n"
          ]
        }
      ]
    }
  ]
}